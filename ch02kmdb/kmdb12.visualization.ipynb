{
 "cells": [
  {
   "cell_type": "code",
   "execution_count": 78,
   "id": "c1004fb0-82fb-4ccd-91a4-d73139b50b0b",
   "metadata": {},
   "outputs": [],
   "source": [
    "import pandas as pd\n",
    "dataInFolder = './../data/'"
   ]
  },
  {
   "cell_type": "code",
   "execution_count": 79,
   "id": "23139f1a-fa51-41b5-968e-6fa1ee21fd1b",
   "metadata": {},
   "outputs": [
    {
     "name": "stdout",
     "output_type": "stream",
     "text": [
      "Index(['영화코드', '영화명국문', '영화명(영문)', '제작연도', '개봉일', '영화유형', '제작상태', '제작국가(전체)',\n",
      "       '영화장르(전체)', '대표 제작 국가', '대표 장르'],\n",
      "      dtype='object')\n"
     ]
    },
    {
     "data": {
      "text/html": [
       "<div>\n",
       "<style scoped>\n",
       "    .dataframe tbody tr th:only-of-type {\n",
       "        vertical-align: middle;\n",
       "    }\n",
       "\n",
       "    .dataframe tbody tr th {\n",
       "        vertical-align: top;\n",
       "    }\n",
       "\n",
       "    .dataframe thead th {\n",
       "        text-align: right;\n",
       "    }\n",
       "</style>\n",
       "<table border=\"1\" class=\"dataframe\">\n",
       "  <thead>\n",
       "    <tr style=\"text-align: right;\">\n",
       "      <th></th>\n",
       "      <th>영화코드</th>\n",
       "      <th>영화명국문</th>\n",
       "      <th>영화명(영문)</th>\n",
       "      <th>제작연도</th>\n",
       "      <th>개봉일</th>\n",
       "      <th>영화유형</th>\n",
       "      <th>제작상태</th>\n",
       "      <th>제작국가(전체)</th>\n",
       "      <th>영화장르(전체)</th>\n",
       "      <th>대표 제작 국가</th>\n",
       "      <th>대표 장르</th>\n",
       "    </tr>\n",
       "  </thead>\n",
       "  <tbody>\n",
       "    <tr>\n",
       "      <th>0</th>\n",
       "      <td>20230966</td>\n",
       "      <td>사채소년</td>\n",
       "      <td>NaN</td>\n",
       "      <td>2023.0</td>\n",
       "      <td>NaN</td>\n",
       "      <td>장편</td>\n",
       "      <td>개봉예정</td>\n",
       "      <td>한국</td>\n",
       "      <td>액션</td>\n",
       "      <td>한국</td>\n",
       "      <td>액션</td>\n",
       "    </tr>\n",
       "    <tr>\n",
       "      <th>1</th>\n",
       "      <td>19820019</td>\n",
       "      <td>만추 리마스터링</td>\n",
       "      <td>Late Autumn</td>\n",
       "      <td>2010.0</td>\n",
       "      <td>20110217.0</td>\n",
       "      <td>장편</td>\n",
       "      <td>개봉</td>\n",
       "      <td>한국,미국,홍콩</td>\n",
       "      <td>멜로/로맨스</td>\n",
       "      <td>한국</td>\n",
       "      <td>멜로/로맨스</td>\n",
       "    </tr>\n",
       "    <tr>\n",
       "      <th>2</th>\n",
       "      <td>20070458</td>\n",
       "      <td>냉정과 열정사이</td>\n",
       "      <td>Between Calm And Passion</td>\n",
       "      <td>2001.0</td>\n",
       "      <td>20031010.0</td>\n",
       "      <td>장편</td>\n",
       "      <td>개봉</td>\n",
       "      <td>일본</td>\n",
       "      <td>멜로/로맨스,드라마</td>\n",
       "      <td>일본</td>\n",
       "      <td>멜로/로맨스</td>\n",
       "    </tr>\n",
       "    <tr>\n",
       "      <th>3</th>\n",
       "      <td>20226500</td>\n",
       "      <td>달짝지근해: 7510</td>\n",
       "      <td>HONEYSWEET</td>\n",
       "      <td>2022.0</td>\n",
       "      <td>20230815.0</td>\n",
       "      <td>장편</td>\n",
       "      <td>개봉</td>\n",
       "      <td>한국</td>\n",
       "      <td>코미디</td>\n",
       "      <td>한국</td>\n",
       "      <td>코미디</td>\n",
       "    </tr>\n",
       "    <tr>\n",
       "      <th>4</th>\n",
       "      <td>20235004</td>\n",
       "      <td>여귀교- 저주를 부르는 게임</td>\n",
       "      <td>The Bridge Curse : Ritua</td>\n",
       "      <td>2023.0</td>\n",
       "      <td>NaN</td>\n",
       "      <td>장편</td>\n",
       "      <td>개봉예정</td>\n",
       "      <td>대만</td>\n",
       "      <td>공포(호러)</td>\n",
       "      <td>대만</td>\n",
       "      <td>공포(호러)</td>\n",
       "    </tr>\n",
       "  </tbody>\n",
       "</table>\n",
       "</div>"
      ],
      "text/plain": [
       "       영화코드            영화명국문                   영화명(영문)    제작연도         개봉일  \\\n",
       "0  20230966             사채소년                       NaN  2023.0         NaN   \n",
       "1  19820019         만추 리마스터링               Late Autumn  2010.0  20110217.0   \n",
       "2  20070458         냉정과 열정사이  Between Calm And Passion  2001.0  20031010.0   \n",
       "3  20226500      달짝지근해: 7510                HONEYSWEET  2022.0  20230815.0   \n",
       "4  20235004  여귀교- 저주를 부르는 게임  The Bridge Curse : Ritua  2023.0         NaN   \n",
       "\n",
       "  영화유형  제작상태  제작국가(전체)    영화장르(전체) 대표 제작 국가   대표 장르  \n",
       "0   장편  개봉예정        한국          액션       한국      액션  \n",
       "1   장편    개봉  한국,미국,홍콩      멜로/로맨스       한국  멜로/로맨스  \n",
       "2   장편    개봉        일본  멜로/로맨스,드라마       일본  멜로/로맨스  \n",
       "3   장편    개봉        한국         코미디       한국     코미디  \n",
       "4   장편  개봉예정        대만      공포(호러)       대만  공포(호러)  "
      ]
     },
     "execution_count": 79,
     "metadata": {},
     "output_type": "execute_result"
    }
   ],
   "source": [
    "kmdb = pd.read_csv(dataInFolder + 'kmdb_get_movie_list_20231103.csv')\n",
    "column_dict = {\n",
    "     'movieCd':'영화코드', 'movieNm':'영화명국문', 'movieNmEn':'영화명(영문)', \n",
    "   'prdtYear':'제작연도', 'openDt':'개봉일', 'typeNm':'영화유형', \n",
    "   'prdtStatNm':'제작상태', 'nationAlt':'제작국가(전체)', 'genreAlt':'영화장르(전체)', \n",
    "   'repNationNm':'대표 제작 국가', 'repGenreNm':'대표 장르'    \n",
    "}\n",
    "kmdb = kmdb.rename(columns=column_dict)\n",
    "print(kmdb.columns)\n",
    "kmdb.head()"
   ]
  },
  {
   "cell_type": "code",
   "execution_count": 80,
   "id": "03062a4e-2ae0-4dfb-9f8e-35148d878a84",
   "metadata": {},
   "outputs": [
    {
     "data": {
      "text/html": [
       "<div>\n",
       "<style scoped>\n",
       "    .dataframe tbody tr th:only-of-type {\n",
       "        vertical-align: middle;\n",
       "    }\n",
       "\n",
       "    .dataframe tbody tr th {\n",
       "        vertical-align: top;\n",
       "    }\n",
       "\n",
       "    .dataframe thead th {\n",
       "        text-align: right;\n",
       "    }\n",
       "</style>\n",
       "<table border=\"1\" class=\"dataframe\">\n",
       "  <thead>\n",
       "    <tr style=\"text-align: right;\">\n",
       "      <th></th>\n",
       "      <th>영화코드</th>\n",
       "      <th>영화명국문</th>\n",
       "      <th>영화명(영문)</th>\n",
       "      <th>제작연도</th>\n",
       "      <th>개봉일</th>\n",
       "      <th>영화유형</th>\n",
       "      <th>제작상태</th>\n",
       "      <th>제작국가(전체)</th>\n",
       "      <th>영화장르(전체)</th>\n",
       "      <th>대표 제작 국가</th>\n",
       "      <th>대표 장르</th>\n",
       "      <th>개봉년도</th>\n",
       "      <th>개봉년월</th>\n",
       "    </tr>\n",
       "  </thead>\n",
       "  <tbody>\n",
       "    <tr>\n",
       "      <th>0</th>\n",
       "      <td>20230966</td>\n",
       "      <td>사채소년</td>\n",
       "      <td>NaN</td>\n",
       "      <td>2023.0</td>\n",
       "      <td>NaN</td>\n",
       "      <td>장편</td>\n",
       "      <td>개봉예정</td>\n",
       "      <td>한국</td>\n",
       "      <td>액션</td>\n",
       "      <td>한국</td>\n",
       "      <td>액션</td>\n",
       "      <td>nan</td>\n",
       "      <td>nan</td>\n",
       "    </tr>\n",
       "    <tr>\n",
       "      <th>1</th>\n",
       "      <td>19820019</td>\n",
       "      <td>만추 리마스터링</td>\n",
       "      <td>Late Autumn</td>\n",
       "      <td>2010.0</td>\n",
       "      <td>20110217.0</td>\n",
       "      <td>장편</td>\n",
       "      <td>개봉</td>\n",
       "      <td>한국,미국,홍콩</td>\n",
       "      <td>멜로/로맨스</td>\n",
       "      <td>한국</td>\n",
       "      <td>멜로/로맨스</td>\n",
       "      <td>2011</td>\n",
       "      <td>201102</td>\n",
       "    </tr>\n",
       "    <tr>\n",
       "      <th>2</th>\n",
       "      <td>20070458</td>\n",
       "      <td>냉정과 열정사이</td>\n",
       "      <td>Between Calm And Passion</td>\n",
       "      <td>2001.0</td>\n",
       "      <td>20031010.0</td>\n",
       "      <td>장편</td>\n",
       "      <td>개봉</td>\n",
       "      <td>일본</td>\n",
       "      <td>멜로/로맨스,드라마</td>\n",
       "      <td>일본</td>\n",
       "      <td>멜로/로맨스</td>\n",
       "      <td>2003</td>\n",
       "      <td>200310</td>\n",
       "    </tr>\n",
       "    <tr>\n",
       "      <th>3</th>\n",
       "      <td>20226500</td>\n",
       "      <td>달짝지근해: 7510</td>\n",
       "      <td>HONEYSWEET</td>\n",
       "      <td>2022.0</td>\n",
       "      <td>20230815.0</td>\n",
       "      <td>장편</td>\n",
       "      <td>개봉</td>\n",
       "      <td>한국</td>\n",
       "      <td>코미디</td>\n",
       "      <td>한국</td>\n",
       "      <td>코미디</td>\n",
       "      <td>2023</td>\n",
       "      <td>202308</td>\n",
       "    </tr>\n",
       "    <tr>\n",
       "      <th>4</th>\n",
       "      <td>20235004</td>\n",
       "      <td>여귀교- 저주를 부르는 게임</td>\n",
       "      <td>The Bridge Curse : Ritua</td>\n",
       "      <td>2023.0</td>\n",
       "      <td>NaN</td>\n",
       "      <td>장편</td>\n",
       "      <td>개봉예정</td>\n",
       "      <td>대만</td>\n",
       "      <td>공포(호러)</td>\n",
       "      <td>대만</td>\n",
       "      <td>공포(호러)</td>\n",
       "      <td>nan</td>\n",
       "      <td>nan</td>\n",
       "    </tr>\n",
       "  </tbody>\n",
       "</table>\n",
       "</div>"
      ],
      "text/plain": [
       "       영화코드            영화명국문                   영화명(영문)    제작연도         개봉일  \\\n",
       "0  20230966             사채소년                       NaN  2023.0         NaN   \n",
       "1  19820019         만추 리마스터링               Late Autumn  2010.0  20110217.0   \n",
       "2  20070458         냉정과 열정사이  Between Calm And Passion  2001.0  20031010.0   \n",
       "3  20226500      달짝지근해: 7510                HONEYSWEET  2022.0  20230815.0   \n",
       "4  20235004  여귀교- 저주를 부르는 게임  The Bridge Curse : Ritua  2023.0         NaN   \n",
       "\n",
       "  영화유형  제작상태  제작국가(전체)    영화장르(전체) 대표 제작 국가   대표 장르  개봉년도    개봉년월  \n",
       "0   장편  개봉예정        한국          액션       한국      액션   nan     nan  \n",
       "1   장편    개봉  한국,미국,홍콩      멜로/로맨스       한국  멜로/로맨스  2011  201102  \n",
       "2   장편    개봉        일본  멜로/로맨스,드라마       일본  멜로/로맨스  2003  200310  \n",
       "3   장편    개봉        한국         코미디       한국     코미디  2023  202308  \n",
       "4   장편  개봉예정        대만      공포(호러)       대만  공포(호러)   nan     nan  "
      ]
     },
     "execution_count": 80,
     "metadata": {},
     "output_type": "execute_result"
    }
   ],
   "source": [
    "openYear = [str(item)[0:4] for item in kmdb['개봉일']]\n",
    "kmdb['개봉년도'] = openYear\n",
    "kmdb['개봉년월'] = [str(item)[0:6] for item in kmdb['개봉일']]\n",
    "kmdb.head()"
   ]
  },
  {
   "cell_type": "code",
   "execution_count": 81,
   "id": "2a2ca675-7056-4206-b710-3e92655cdb66",
   "metadata": {},
   "outputs": [
    {
     "data": {
      "text/plain": [
       "True"
      ]
     },
     "execution_count": 81,
     "metadata": {},
     "output_type": "execute_result"
    }
   ],
   "source": [
    "#컬럼 재배치 작업\n",
    "columns01= ['영화코드', '영화명국문', '영화명(영문)', '개봉년도', '개봉년월', '개봉일']\n",
    "columns02= ['대표 제작 국가', '대표 장르', '영화유형', '제작상태', '영화장르(전체)', '제작국가(전체)', '제작연도']\n",
    "\n",
    "myordering = columns01 + columns02\n",
    "\n",
    "#누락된 컬럼이 없는 지 확인\n",
    "result = set(kmdb.columns) == set(myordering)\n",
    "result"
   ]
  },
  {
   "cell_type": "code",
   "execution_count": 82,
   "id": "41008d13-5de5-48a5-8477-59520f111b02",
   "metadata": {},
   "outputs": [
    {
     "data": {
      "text/html": [
       "<div>\n",
       "<style scoped>\n",
       "    .dataframe tbody tr th:only-of-type {\n",
       "        vertical-align: middle;\n",
       "    }\n",
       "\n",
       "    .dataframe tbody tr th {\n",
       "        vertical-align: top;\n",
       "    }\n",
       "\n",
       "    .dataframe thead th {\n",
       "        text-align: right;\n",
       "    }\n",
       "</style>\n",
       "<table border=\"1\" class=\"dataframe\">\n",
       "  <thead>\n",
       "    <tr style=\"text-align: right;\">\n",
       "      <th></th>\n",
       "      <th>영화코드</th>\n",
       "      <th>영화명국문</th>\n",
       "      <th>영화명(영문)</th>\n",
       "      <th>개봉년도</th>\n",
       "      <th>개봉년월</th>\n",
       "      <th>개봉일</th>\n",
       "      <th>대표 제작 국가</th>\n",
       "      <th>대표 장르</th>\n",
       "      <th>영화유형</th>\n",
       "      <th>제작상태</th>\n",
       "      <th>영화장르(전체)</th>\n",
       "      <th>제작국가(전체)</th>\n",
       "      <th>제작연도</th>\n",
       "    </tr>\n",
       "  </thead>\n",
       "  <tbody>\n",
       "    <tr>\n",
       "      <th>0</th>\n",
       "      <td>20230966</td>\n",
       "      <td>사채소년</td>\n",
       "      <td>NaN</td>\n",
       "      <td>nan</td>\n",
       "      <td>nan</td>\n",
       "      <td>NaN</td>\n",
       "      <td>한국</td>\n",
       "      <td>액션</td>\n",
       "      <td>장편</td>\n",
       "      <td>개봉예정</td>\n",
       "      <td>액션</td>\n",
       "      <td>한국</td>\n",
       "      <td>2023.0</td>\n",
       "    </tr>\n",
       "    <tr>\n",
       "      <th>1</th>\n",
       "      <td>19820019</td>\n",
       "      <td>만추 리마스터링</td>\n",
       "      <td>Late Autumn</td>\n",
       "      <td>2011</td>\n",
       "      <td>201102</td>\n",
       "      <td>20110217.0</td>\n",
       "      <td>한국</td>\n",
       "      <td>멜로/로맨스</td>\n",
       "      <td>장편</td>\n",
       "      <td>개봉</td>\n",
       "      <td>멜로/로맨스</td>\n",
       "      <td>한국,미국,홍콩</td>\n",
       "      <td>2010.0</td>\n",
       "    </tr>\n",
       "    <tr>\n",
       "      <th>2</th>\n",
       "      <td>20070458</td>\n",
       "      <td>냉정과 열정사이</td>\n",
       "      <td>Between Calm And Passion</td>\n",
       "      <td>2003</td>\n",
       "      <td>200310</td>\n",
       "      <td>20031010.0</td>\n",
       "      <td>일본</td>\n",
       "      <td>멜로/로맨스</td>\n",
       "      <td>장편</td>\n",
       "      <td>개봉</td>\n",
       "      <td>멜로/로맨스,드라마</td>\n",
       "      <td>일본</td>\n",
       "      <td>2001.0</td>\n",
       "    </tr>\n",
       "    <tr>\n",
       "      <th>3</th>\n",
       "      <td>20226500</td>\n",
       "      <td>달짝지근해: 7510</td>\n",
       "      <td>HONEYSWEET</td>\n",
       "      <td>2023</td>\n",
       "      <td>202308</td>\n",
       "      <td>20230815.0</td>\n",
       "      <td>한국</td>\n",
       "      <td>코미디</td>\n",
       "      <td>장편</td>\n",
       "      <td>개봉</td>\n",
       "      <td>코미디</td>\n",
       "      <td>한국</td>\n",
       "      <td>2022.0</td>\n",
       "    </tr>\n",
       "    <tr>\n",
       "      <th>4</th>\n",
       "      <td>20235004</td>\n",
       "      <td>여귀교- 저주를 부르는 게임</td>\n",
       "      <td>The Bridge Curse : Ritua</td>\n",
       "      <td>nan</td>\n",
       "      <td>nan</td>\n",
       "      <td>NaN</td>\n",
       "      <td>대만</td>\n",
       "      <td>공포(호러)</td>\n",
       "      <td>장편</td>\n",
       "      <td>개봉예정</td>\n",
       "      <td>공포(호러)</td>\n",
       "      <td>대만</td>\n",
       "      <td>2023.0</td>\n",
       "    </tr>\n",
       "  </tbody>\n",
       "</table>\n",
       "</div>"
      ],
      "text/plain": [
       "       영화코드            영화명국문                   영화명(영문)  개봉년도    개봉년월  \\\n",
       "0  20230966             사채소년                       NaN   nan     nan   \n",
       "1  19820019         만추 리마스터링               Late Autumn  2011  201102   \n",
       "2  20070458         냉정과 열정사이  Between Calm And Passion  2003  200310   \n",
       "3  20226500      달짝지근해: 7510                HONEYSWEET  2023  202308   \n",
       "4  20235004  여귀교- 저주를 부르는 게임  The Bridge Curse : Ritua   nan     nan   \n",
       "\n",
       "          개봉일 대표 제작 국가   대표 장르 영화유형  제작상태    영화장르(전체)  제작국가(전체)    제작연도  \n",
       "0         NaN       한국      액션   장편  개봉예정          액션        한국  2023.0  \n",
       "1  20110217.0       한국  멜로/로맨스   장편    개봉      멜로/로맨스  한국,미국,홍콩  2010.0  \n",
       "2  20031010.0       일본  멜로/로맨스   장편    개봉  멜로/로맨스,드라마        일본  2001.0  \n",
       "3  20230815.0       한국     코미디   장편    개봉         코미디        한국  2022.0  \n",
       "4         NaN       대만  공포(호러)   장편  개봉예정      공포(호러)        대만  2023.0  "
      ]
     },
     "execution_count": 82,
     "metadata": {},
     "output_type": "execute_result"
    }
   ],
   "source": [
    "kmdb = kmdb[myordering]\n",
    "kmdb.head()"
   ]
  },
  {
   "cell_type": "code",
   "execution_count": 83,
   "id": "a672c82e-bb79-4fdd-9bee-3945b5815512",
   "metadata": {},
   "outputs": [
    {
     "data": {
      "text/plain": [
       "array(['액션', '멜로/로맨스', '코미디', '공포(호러)', '드라마', nan, '성인물(에로)', 'SF',\n",
       "       '애니메이션', '기타', '판타지', '범죄', '공연', '스릴러', '다큐멘터리', '미스터리', '뮤지컬',\n",
       "       '전쟁', '어드벤처', '가족', '서부극(웨스턴)', '사극'], dtype=object)"
      ]
     },
     "execution_count": 83,
     "metadata": {},
     "output_type": "execute_result"
    }
   ],
   "source": [
    "kmdb['대표 장르'].unique()"
   ]
  },
  {
   "cell_type": "code",
   "execution_count": 84,
   "id": "d190ed56-c172-40af-8a3f-f21c4ef3ee10",
   "metadata": {},
   "outputs": [
    {
     "data": {
      "text/plain": [
       "array(['액션', '코미디', '드라마', '판타지'], dtype=object)"
      ]
     },
     "execution_count": 84,
     "metadata": {},
     "output_type": "execute_result"
    }
   ],
   "source": [
    "genre_filter = ['드라마', '코미디', '판타지', '액션']\n",
    "genre_result = kmdb[kmdb['대표 장르'].isin(genre_filter)]\n",
    "genre_result['대표 장르'].unique()"
   ]
  },
  {
   "cell_type": "code",
   "execution_count": 85,
   "id": "ff467d5e-dc96-46d6-8838-4b34ea64a084",
   "metadata": {},
   "outputs": [
    {
     "data": {
      "text/html": [
       "<div>\n",
       "<style scoped>\n",
       "    .dataframe tbody tr th:only-of-type {\n",
       "        vertical-align: middle;\n",
       "    }\n",
       "\n",
       "    .dataframe tbody tr th {\n",
       "        vertical-align: top;\n",
       "    }\n",
       "\n",
       "    .dataframe thead th {\n",
       "        text-align: right;\n",
       "    }\n",
       "</style>\n",
       "<table border=\"1\" class=\"dataframe\">\n",
       "  <thead>\n",
       "    <tr style=\"text-align: right;\">\n",
       "      <th></th>\n",
       "      <th>count</th>\n",
       "    </tr>\n",
       "    <tr>\n",
       "      <th>대표 장르</th>\n",
       "      <th></th>\n",
       "    </tr>\n",
       "  </thead>\n",
       "  <tbody>\n",
       "    <tr>\n",
       "      <th>드라마</th>\n",
       "      <td>22003</td>\n",
       "    </tr>\n",
       "    <tr>\n",
       "      <th>액션</th>\n",
       "      <td>6176</td>\n",
       "    </tr>\n",
       "    <tr>\n",
       "      <th>코미디</th>\n",
       "      <td>5277</td>\n",
       "    </tr>\n",
       "    <tr>\n",
       "      <th>판타지</th>\n",
       "      <td>588</td>\n",
       "    </tr>\n",
       "  </tbody>\n",
       "</table>\n",
       "</div>"
      ],
      "text/plain": [
       "       count\n",
       "대표 장르       \n",
       "드라마    22003\n",
       "액션      6176\n",
       "코미디     5277\n",
       "판타지      588"
      ]
     },
     "execution_count": 85,
     "metadata": {},
     "output_type": "execute_result"
    }
   ],
   "source": [
    "chartData = genre_result['대표 장르'].value_counts()\n",
    "chartData.to_frame()"
   ]
  },
  {
   "cell_type": "code",
   "execution_count": 86,
   "id": "2b9b27bd-41bc-4ea9-a96b-e2440485b07a",
   "metadata": {},
   "outputs": [],
   "source": [
    "import matplotlib.pyplot as plt\n",
    "plt.rc('font',family = 'Malgun Gothic') # 한글 안 깨지도록 맑은 고딕으로 설정"
   ]
  },
  {
   "cell_type": "code",
   "execution_count": 87,
   "id": "4a64a081-d2db-4028-b04b-cbc0a33d1b36",
   "metadata": {},
   "outputs": [
    {
     "data": {
      "text/plain": [
       "<Axes: ylabel='count'>"
      ]
     },
     "execution_count": 87,
     "metadata": {},
     "output_type": "execute_result"
    },
    {
     "data": {
      "image/png": "[encoded data removed]",
      "text/plain": [
       "<Figure size 640x480 with 1 Axes>"
      ]
     },
     "metadata": {},
     "output_type": "display_data"
    }
   ],
   "source": [
    "chartData.plot(kind='pie', autopct='%1.2f%%')\n"
   ]
  },
  {
   "cell_type": "code",
   "execution_count": 88,
   "id": "b4b5cf4e-7052-4db4-9292-ba6a5f2e5b2e",
   "metadata": {},
   "outputs": [
    {
     "data": {
      "text/plain": [
       "array(['코미디', '드라마', '애니메이션', '범죄', '스릴러'], dtype=object)"
      ]
     },
     "execution_count": 88,
     "metadata": {},
     "output_type": "execute_result"
    }
   ],
   "source": [
    "genre_filter = ['드라마', '애니메이션', '범죄', '코미디', '스릴러']\n",
    "genre_result = kmdb[kmdb['대표 장르'].isin(genre_filter)]\n",
    "genre_result['대표 장르'].unique()"
   ]
  },
  {
   "cell_type": "code",
   "execution_count": 89,
   "id": "41a913f4-52fb-4dcb-bc16-12e70a81a064",
   "metadata": {},
   "outputs": [
    {
     "data": {
      "text/html": [
       "<div>\n",
       "<style scoped>\n",
       "    .dataframe tbody tr th:only-of-type {\n",
       "        vertical-align: middle;\n",
       "    }\n",
       "\n",
       "    .dataframe tbody tr th {\n",
       "        vertical-align: top;\n",
       "    }\n",
       "\n",
       "    .dataframe thead th {\n",
       "        text-align: right;\n",
       "    }\n",
       "</style>\n",
       "<table border=\"1\" class=\"dataframe\">\n",
       "  <thead>\n",
       "    <tr style=\"text-align: right;\">\n",
       "      <th></th>\n",
       "      <th>대표 장르</th>\n",
       "    </tr>\n",
       "    <tr>\n",
       "      <th>대표 장르</th>\n",
       "      <th></th>\n",
       "    </tr>\n",
       "  </thead>\n",
       "  <tbody>\n",
       "    <tr>\n",
       "      <th>범죄</th>\n",
       "      <td>1523</td>\n",
       "    </tr>\n",
       "    <tr>\n",
       "      <th>스릴러</th>\n",
       "      <td>1870</td>\n",
       "    </tr>\n",
       "    <tr>\n",
       "      <th>코미디</th>\n",
       "      <td>5277</td>\n",
       "    </tr>\n",
       "    <tr>\n",
       "      <th>애니메이션</th>\n",
       "      <td>8638</td>\n",
       "    </tr>\n",
       "    <tr>\n",
       "      <th>드라마</th>\n",
       "      <td>22003</td>\n",
       "    </tr>\n",
       "  </tbody>\n",
       "</table>\n",
       "</div>"
      ],
      "text/plain": [
       "       대표 장르\n",
       "대표 장르       \n",
       "범죄      1523\n",
       "스릴러     1870\n",
       "코미디     5277\n",
       "애니메이션   8638\n",
       "드라마    22003"
      ]
     },
     "execution_count": 89,
     "metadata": {},
     "output_type": "execute_result"
    }
   ],
   "source": [
    "# groupby('a')['b'] : a로 그룹핑 해주세요.\n",
    "genreGrouping = genre_result.groupby('대표 장르')['대표 장르']\n",
    "genreChart = genreGrouping.count().sort_values() #b에 대한 개수를 구해주세요.\n",
    "genreChart.to_frame()"
   ]
  },
  {
   "cell_type": "code",
   "execution_count": 90,
   "id": "6de455eb-a5ae-4ef2-9de4-52bb3e142683",
   "metadata": {},
   "outputs": [
    {
     "data": {
      "text/plain": [
       "<Axes: xlabel='대표 장르'>"
      ]
     },
     "execution_count": 90,
     "metadata": {},
     "output_type": "execute_result"
    },
    {
     "data": {
      "image/png": "[encoded data removed]",
      "text/plain": [
       "<Figure size 640x480 with 1 Axes>"
      ]
     },
     "metadata": {},
     "output_type": "display_data"
    }
   ],
   "source": [
    "genreChart.plot(kind='bar', rot=0)"
   ]
  },
  {
   "cell_type": "code",
   "execution_count": 91,
   "id": "f0f430b6-4cb9-47cb-96e6-a7b6ce1e1224",
   "metadata": {},
   "outputs": [
    {
     "data": {
      "text/plain": [
       "array(['한국', '일본', '미국', '중국'], dtype=object)"
      ]
     },
     "execution_count": 91,
     "metadata": {},
     "output_type": "execute_result"
    }
   ],
   "source": [
    "filter_nation = ['미국', '일본', '중국', '한국']\n",
    "nation_name_data = kmdb[kmdb['대표 제작 국가'].isin(filter_nation)]\n",
    "nation_name_data['대표 제작 국가'].unique()"
   ]
  },
  {
   "cell_type": "code",
   "execution_count": 92,
   "id": "08b23808-c240-4d85-92b8-8d56cd1ccc29",
   "metadata": {},
   "outputs": [
    {
     "data": {
      "text/html": [
       "<div>\n",
       "<style scoped>\n",
       "    .dataframe tbody tr th:only-of-type {\n",
       "        vertical-align: middle;\n",
       "    }\n",
       "\n",
       "    .dataframe tbody tr th {\n",
       "        vertical-align: top;\n",
       "    }\n",
       "\n",
       "    .dataframe thead th {\n",
       "        text-align: right;\n",
       "    }\n",
       "</style>\n",
       "<table border=\"1\" class=\"dataframe\">\n",
       "  <thead>\n",
       "    <tr style=\"text-align: right;\">\n",
       "      <th></th>\n",
       "      <th>대표 제작 국가</th>\n",
       "    </tr>\n",
       "    <tr>\n",
       "      <th>대표 제작 국가</th>\n",
       "      <th></th>\n",
       "    </tr>\n",
       "  </thead>\n",
       "  <tbody>\n",
       "    <tr>\n",
       "      <th>한국</th>\n",
       "      <td>33049</td>\n",
       "    </tr>\n",
       "    <tr>\n",
       "      <th>중국</th>\n",
       "      <td>1951</td>\n",
       "    </tr>\n",
       "    <tr>\n",
       "      <th>일본</th>\n",
       "      <td>11963</td>\n",
       "    </tr>\n",
       "    <tr>\n",
       "      <th>미국</th>\n",
       "      <td>15761</td>\n",
       "    </tr>\n",
       "  </tbody>\n",
       "</table>\n",
       "</div>"
      ],
      "text/plain": [
       "          대표 제작 국가\n",
       "대표 제작 국가          \n",
       "한국           33049\n",
       "중국            1951\n",
       "일본           11963\n",
       "미국           15761"
      ]
     },
     "execution_count": 92,
     "metadata": {},
     "output_type": "execute_result"
    }
   ],
   "source": [
    "nation_name_grouping = nation_name_data.groupby('대표 제작 국가')['대표 제작 국가']\n",
    "nation_name_chart = nation_name_grouping.count().sort_index(ascending=False) # 색인 기반 오름차 정렬\n",
    "nation_name_chart.to_frame()"
   ]
  },
  {
   "cell_type": "code",
   "execution_count": 93,
   "id": "cb36e0e5-3b6a-4c77-90bf-0ed7934a98cd",
   "metadata": {},
   "outputs": [
    {
     "data": {
      "text/plain": [
       "<Axes: ylabel='대표 제작 국가'>"
      ]
     },
     "execution_count": 93,
     "metadata": {},
     "output_type": "execute_result"
    },
    {
     "data": {
      "image/png": "[encoded data removed]",
      "text/plain": [
       "<Figure size 640x480 with 1 Axes>"
      ]
     },
     "metadata": {},
     "output_type": "display_data"
    }
   ],
   "source": [
    "nation_name_chart.plot(kind='barh', rot=0)"
   ]
  },
  {
   "cell_type": "code",
   "execution_count": 96,
   "id": "143e1084-453f-4f08-88b6-f627005d915e",
   "metadata": {},
   "outputs": [],
   "source": [
    "nation = ['한국', '미국', '일본']\n",
    "genre = ['범죄', '코미디', '스릴러', '뮤지컬']\n",
    "\n",
    "result = kmdb[kmdb['대표 제작 국가'].isin(nation)]\n",
    "result = result[result['대표 장르'].isin(genre)]"
   ]
  },
  {
   "cell_type": "code",
   "execution_count": 98,
   "id": "5e98745b-7358-4523-b22c-554be8978c8d",
   "metadata": {},
   "outputs": [
    {
     "data": {
      "text/html": [
       "<div>\n",
       "<style scoped>\n",
       "    .dataframe tbody tr th:only-of-type {\n",
       "        vertical-align: middle;\n",
       "    }\n",
       "\n",
       "    .dataframe tbody tr th {\n",
       "        vertical-align: top;\n",
       "    }\n",
       "\n",
       "    .dataframe thead th {\n",
       "        text-align: right;\n",
       "    }\n",
       "</style>\n",
       "<table border=\"1\" class=\"dataframe\">\n",
       "  <thead>\n",
       "    <tr style=\"text-align: right;\">\n",
       "      <th></th>\n",
       "      <th>대표 제작 국가</th>\n",
       "      <th>대표 장르</th>\n",
       "      <th>cnt</th>\n",
       "    </tr>\n",
       "  </thead>\n",
       "  <tbody>\n",
       "    <tr>\n",
       "      <th>0</th>\n",
       "      <td>미국</td>\n",
       "      <td>뮤지컬</td>\n",
       "      <td>88</td>\n",
       "    </tr>\n",
       "    <tr>\n",
       "      <th>1</th>\n",
       "      <td>미국</td>\n",
       "      <td>범죄</td>\n",
       "      <td>670</td>\n",
       "    </tr>\n",
       "    <tr>\n",
       "      <th>2</th>\n",
       "      <td>미국</td>\n",
       "      <td>스릴러</td>\n",
       "      <td>787</td>\n",
       "    </tr>\n",
       "    <tr>\n",
       "      <th>3</th>\n",
       "      <td>미국</td>\n",
       "      <td>코미디</td>\n",
       "      <td>2054</td>\n",
       "    </tr>\n",
       "    <tr>\n",
       "      <th>4</th>\n",
       "      <td>일본</td>\n",
       "      <td>범죄</td>\n",
       "      <td>64</td>\n",
       "    </tr>\n",
       "    <tr>\n",
       "      <th>5</th>\n",
       "      <td>일본</td>\n",
       "      <td>스릴러</td>\n",
       "      <td>79</td>\n",
       "    </tr>\n",
       "    <tr>\n",
       "      <th>6</th>\n",
       "      <td>일본</td>\n",
       "      <td>코미디</td>\n",
       "      <td>241</td>\n",
       "    </tr>\n",
       "    <tr>\n",
       "      <th>7</th>\n",
       "      <td>한국</td>\n",
       "      <td>뮤지컬</td>\n",
       "      <td>73</td>\n",
       "    </tr>\n",
       "    <tr>\n",
       "      <th>8</th>\n",
       "      <td>한국</td>\n",
       "      <td>범죄</td>\n",
       "      <td>205</td>\n",
       "    </tr>\n",
       "    <tr>\n",
       "      <th>9</th>\n",
       "      <td>한국</td>\n",
       "      <td>스릴러</td>\n",
       "      <td>422</td>\n",
       "    </tr>\n",
       "    <tr>\n",
       "      <th>10</th>\n",
       "      <td>한국</td>\n",
       "      <td>코미디</td>\n",
       "      <td>969</td>\n",
       "    </tr>\n",
       "  </tbody>\n",
       "</table>\n",
       "</div>"
      ],
      "text/plain": [
       "   대표 제작 국가 대표 장르   cnt\n",
       "0        미국   뮤지컬    88\n",
       "1        미국    범죄   670\n",
       "2        미국   스릴러   787\n",
       "3        미국   코미디  2054\n",
       "4        일본    범죄    64\n",
       "5        일본   스릴러    79\n",
       "6        일본   코미디   241\n",
       "7        한국   뮤지컬    73\n",
       "8        한국    범죄   205\n",
       "9        한국   스릴러   422\n",
       "10       한국   코미디   969"
      ]
     },
     "execution_count": 98,
     "metadata": {},
     "output_type": "execute_result"
    }
   ],
   "source": [
    "resultGroup = result.groupby(['대표 제작 국가', '대표 장르'])['대표 제작 국가']\n",
    "barChartData = resultGroup.count().to_frame()\n",
    "barChartData = barChartData.rename(columns={'대표 제작 국가':'cnt'})\n",
    "barChartData.reset_index()"
   ]
  },
  {
   "cell_type": "code",
   "execution_count": 101,
   "id": "f6159b41-2e80-45c8-97cb-78c040021651",
   "metadata": {},
   "outputs": [
    {
     "data": {
      "text/html": [
       "<div>\n",
       "<style scoped>\n",
       "    .dataframe tbody tr th:only-of-type {\n",
       "        vertical-align: middle;\n",
       "    }\n",
       "\n",
       "    .dataframe tbody tr th {\n",
       "        vertical-align: top;\n",
       "    }\n",
       "\n",
       "    .dataframe thead th {\n",
       "        text-align: right;\n",
       "    }\n",
       "</style>\n",
       "<table border=\"1\" class=\"dataframe\">\n",
       "  <thead>\n",
       "    <tr style=\"text-align: right;\">\n",
       "      <th>대표 장르</th>\n",
       "      <th>뮤지컬</th>\n",
       "      <th>범죄</th>\n",
       "      <th>스릴러</th>\n",
       "      <th>코미디</th>\n",
       "    </tr>\n",
       "    <tr>\n",
       "      <th>대표 제작 국가</th>\n",
       "      <th></th>\n",
       "      <th></th>\n",
       "      <th></th>\n",
       "      <th></th>\n",
       "    </tr>\n",
       "  </thead>\n",
       "  <tbody>\n",
       "    <tr>\n",
       "      <th>미국</th>\n",
       "      <td>88.0</td>\n",
       "      <td>670.0</td>\n",
       "      <td>787.0</td>\n",
       "      <td>2054.0</td>\n",
       "    </tr>\n",
       "    <tr>\n",
       "      <th>일본</th>\n",
       "      <td>NaN</td>\n",
       "      <td>64.0</td>\n",
       "      <td>79.0</td>\n",
       "      <td>241.0</td>\n",
       "    </tr>\n",
       "    <tr>\n",
       "      <th>한국</th>\n",
       "      <td>73.0</td>\n",
       "      <td>205.0</td>\n",
       "      <td>422.0</td>\n",
       "      <td>969.0</td>\n",
       "    </tr>\n",
       "  </tbody>\n",
       "</table>\n",
       "</div>"
      ],
      "text/plain": [
       "대표 장르      뮤지컬     범죄    스릴러     코미디\n",
       "대표 제작 국가                            \n",
       "미국        88.0  670.0  787.0  2054.0\n",
       "일본         NaN   64.0   79.0   241.0\n",
       "한국        73.0  205.0  422.0   969.0"
      ]
     },
     "execution_count": 101,
     "metadata": {},
     "output_type": "execute_result"
    }
   ],
   "source": [
    "barChart = pd.pivot_table(barChartData, index='대표 제작 국가', columns=('대표 장르'), values='cnt', aggfunc='mean')\n",
    "barChart"
   ]
  },
  {
   "cell_type": "code",
   "execution_count": 102,
   "id": "d4c9a2ca-412b-4d58-8f2a-eae36d0b996b",
   "metadata": {},
   "outputs": [
    {
     "data": {
      "text/plain": [
       "Text(0.5, 1.0, '국가별 장르별 다변량 수직 막대 그래프')"
      ]
     },
     "execution_count": 102,
     "metadata": {},
     "output_type": "execute_result"
    },
    {
     "data": {
      "image/png": "[encoded data removed]",
      "text/plain": [
       "<Figure size 640x480 with 1 Axes>"
      ]
     },
     "metadata": {},
     "output_type": "display_data"
    }
   ],
   "source": [
    "barChart.plot(kind='bar', rot=0)\n",
    "plt.title('국가별 장르별 다변량 수직 막대 그래프')"
   ]
  },
  {
   "cell_type": "code",
   "execution_count": 103,
   "id": "363d0ccb-b3c8-44ed-ac90-66f7ca2bc6cb",
   "metadata": {},
   "outputs": [
    {
     "data": {
      "text/plain": [
       "Text(0.5, 1.0, '장르별 국가별 다변량 수직 막대 그래프')"
      ]
     },
     "execution_count": 103,
     "metadata": {},
     "output_type": "execute_result"
    },
    {
     "data": {
      "image/png": "[encoded data removed]",
      "text/plain": [
       "<Figure size 640x480 with 1 Axes>"
      ]
     },
     "metadata": {},
     "output_type": "display_data"
    }
   ],
   "source": [
    "barChart.T.plot(kind='bar', rot=0)\n",
    "plt.title('장르별 국가별 다변량 수직 막대 그래프')"
   ]
  },
  {
   "cell_type": "code",
   "execution_count": null,
   "id": "a35a77d6-f4d5-4f85-98d6-8b5cd8ab8ca0",
   "metadata": {},
   "outputs": [],
   "source": []
  }
 ],
 "metadata": {
  "kernelspec": {
   "display_name": "Python 3 (ipykernel)",
   "language": "python",
   "name": "python3"
  },
  "language_info": {
   "codemirror_mode": {
    "name": "ipython",
    "version": 3
   },
   "file_extension": ".py",
   "mimetype": "text/x-python",
   "name": "python",
   "nbconvert_exporter": "python",
   "pygments_lexer": "ipython3",
   "version": "3.12.4"
  }
 },
 "nbformat": 4,
 "nbformat_minor": 5
}
